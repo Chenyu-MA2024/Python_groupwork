{
 "cells": [
  {
   "cell_type": "code",
   "execution_count": 53,
   "id": "33d413ba-e59c-4f7c-b8be-c8eb9ce6be62",
   "metadata": {},
   "outputs": [
    {
     "name": "stdout",
     "output_type": "stream",
     "text": [
      "处理后的数据集已保存为以下文件：\n",
      "- Scaled Tasks Dataset: scaled_tasks.csv\n",
      "- Scaled Suppliers Dataset: scaled_suppliers.csv\n",
      "- Filtered Task-Supplier Performance: filtered_task_supplier_performance.csv\n"
     ]
    }
   ],
   "source": [
    "import pandas as pd\n",
    "from sklearn.preprocessing import MinMaxScaler\n",
    "from sklearn.feature_selection import VarianceThreshold\n",
    "\n",
    "# 加载文件路径\n",
    "tasks_file = 'D:/Desktop/tasks.csv'\n",
    "cost_file = 'D:/Desktop/cost.csv'\n",
    "suppliers_file = 'D:/Desktop/suppliers.csv'\n",
    "\n",
    "# 读取文件\n",
    "tasks_df = pd.read_csv(tasks_file)\n",
    "cost_df = pd.read_csv(cost_file)\n",
    "suppliers_df = pd.read_csv(suppliers_file)\n",
    "\n",
    "# 定义缺失值处理函数\n",
    "def handle_missing_values(df):\n",
    "    for column in df.columns:\n",
    "        if df[column].dtype in ['float64', 'int64']:  # 数值型列\n",
    "            df[column] = df[column].fillna(df[column].mean())\n",
    "        elif df[column].dtype == 'object':  # 分类型列\n",
    "            df[column] = df[column].fillna(df[column].mode()[0])\n",
    "    return df\n",
    "\n",
    "# 处理缺失值\n",
    "tasks_df = handle_missing_values(tasks_df)\n",
    "cost_df = handle_missing_values(cost_df)\n",
    "suppliers_df = handle_missing_values(suppliers_df)\n",
    "\n",
    "# 对 Tasks 数据集进行标准化，并保留原始索引和任务标识符\n",
    "tasks_id = tasks_df['Task ID']  # 提取任务标识符\n",
    "tasks_numeric = tasks_df.select_dtypes(include=['float64', 'int64'])  # 提取数值型特征\n",
    "\n",
    "# 特征选择，删除低方差特征\n",
    "selector = VarianceThreshold(threshold=0.1)  # 假设阀值是0.1\n",
    "selected_features = selector.fit_transform(tasks_numeric)\n",
    "selected_columns = tasks_numeric.columns[selector.get_support()]\n",
    "\n",
    "# 将特征选择后的数据与任务ID结合\n",
    "tasks_scaled = pd.DataFrame(\n",
    "    MinMaxScaler().fit_transform(selected_features),\n",
    "    columns=selected_columns\n",
    ")\n",
    "tasks_scaled.insert(0, 'Task ID', tasks_id)\n",
    "\n",
    "# 对 Suppliers 数据集进行标准化\n",
    "suppliers_numeric = suppliers_df.iloc[:, 1:]  # 排除第一列 'Features'\n",
    "suppliers_scaled = pd.DataFrame(\n",
    "    MinMaxScaler().fit_transform(suppliers_numeric),\n",
    "    columns=suppliers_numeric.columns\n",
    ")\n",
    "suppliers_scaled.insert(0, 'Features', suppliers_df['Features'])  # 添加 Features 列\n",
    "\n",
    "# 基于 Cost 数据集计算每个任务的供应商成本表现\n",
    "cost_df_grouped = cost_df.groupby(['Task ID', 'Supplier ID'], group_keys=False)['Cost'].mean().reset_index()\n",
    "cost_df_grouped = cost_df_grouped.sort_values(by=['Task ID', 'Cost'])\n",
    "\n",
    "# 对于每个任务，只保留成本最低的前80%供应商\n",
    "def filter_top_suppliers(group, top_percent=0.8):\n",
    "    return group.head(int(len(group) * top_percent))\n",
    "\n",
    "filtered_suppliers = cost_df_grouped.groupby('Task ID', group_keys=False).apply(filter_top_suppliers, include_groups=False).reset_index(drop=True)\n",
    "filtered_suppliers.to_csv(\"D:/Desktop/filtered_task_supplier_performance.csv\", index=False)\n",
    "\n",
    "# 保存更新后的数据集\n",
    "tasks_scaled.to_csv(\"D:/Desktop/scaled_tasks.csv\", index=False)\n",
    "suppliers_scaled.to_csv(\"D:/Desktop/scaled_suppliers.csv\", index=False)\n",
    "\n",
    "print(\"处理后的数据集已保存为以下文件：\")\n",
    "print(\"- Scaled Tasks Dataset: scaled_tasks.csv\")\n",
    "print(\"- Scaled Suppliers Dataset: scaled_suppliers.csv\")\n",
    "print(\"- Filtered Task-Supplier Performance: filtered_task_supplier_performance.csv\")\n",
    "\n"
   ]
  },
  {
   "cell_type": "code",
   "execution_count": null,
   "id": "3f5f2bf7-d882-4cc1-9a08-9c94fc9467f8",
   "metadata": {},
   "outputs": [],
   "source": []
  },
  {
   "cell_type": "code",
   "execution_count": null,
   "id": "1b8e4373-4ef0-430c-a8da-ad3715a33f81",
   "metadata": {},
   "outputs": [],
   "source": []
  }
 ],
 "metadata": {
  "kernelspec": {
   "display_name": "Python 3 (ipykernel)",
   "language": "python",
   "name": "python3"
  },
  "language_info": {
   "codemirror_mode": {
    "name": "ipython",
    "version": 3
   },
   "file_extension": ".py",
   "mimetype": "text/x-python",
   "name": "python",
   "nbconvert_exporter": "python",
   "pygments_lexer": "ipython3",
   "version": "3.12.4"
  }
 },
 "nbformat": 4,
 "nbformat_minor": 5
}
